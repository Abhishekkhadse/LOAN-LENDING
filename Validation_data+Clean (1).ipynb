{
 "cells": [
  {
   "cell_type": "code",
   "execution_count": 1,
   "metadata": {
    "collapsed": true
   },
   "outputs": [],
   "source": [
    "import pandas as pd\n",
    "import os\n",
    "import numpy as np\n",
    "import matplotlib.pyplot as plt\n",
    "import seaborn as sns\n"
   ]
  },
  {
   "cell_type": "code",
   "execution_count": 2,
   "metadata": {},
   "outputs": [],
   "source": [
    "os.chdir(r\"C:\\Users\\Dell\\Desktop\\Finalproject\")"
   ]
  },
  {
   "cell_type": "code",
   "execution_count": 3,
   "metadata": {},
   "outputs": [],
   "source": [
    "df_val = pd.read_csv(\"XYZCorp_LendingData.txt\",delimiter=\"\\t\",low_memory=False)"
   ]
  },
  {
   "cell_type": "code",
   "execution_count": 5,
   "metadata": {},
   "outputs": [],
   "source": [
    "df_val=df_val[df_val.revol_util<101]"
   ]
  },
  {
   "cell_type": "code",
   "execution_count": 6,
   "metadata": {
    "collapsed": true
   },
   "outputs": [],
   "source": [
    "df_val=df_val[df_val.out_prncp>0]  #active users"
   ]
  },
  {
   "cell_type": "code",
   "execution_count": 4,
   "metadata": {},
   "outputs": [
    {
     "ename": "NameError",
     "evalue": "name 'total_rev_hi_lim' is not defined",
     "output_type": "error",
     "traceback": [
      "\u001b[1;31m---------------------------------------------------------------------------\u001b[0m",
      "\u001b[1;31mNameError\u001b[0m                                 Traceback (most recent call last)",
      "\u001b[1;32m<ipython-input-4-f381759fc121>\u001b[0m in \u001b[0;36m<module>\u001b[1;34m()\u001b[0m\n\u001b[1;32m----> 1\u001b[1;33m \u001b[0mdf_val\u001b[0m\u001b[1;33m[\u001b[0m\u001b[0mtotal_rev_hi_lim\u001b[0m\u001b[1;33m]\u001b[0m\u001b[1;33m.\u001b[0m\u001b[0mboxplot\u001b[0m\u001b[1;33m\u001b[0m\u001b[0m\n\u001b[0m",
      "\u001b[1;31mNameError\u001b[0m: name 'total_rev_hi_lim' is not defined"
     ]
    }
   ],
   "source": []
  },
  {
   "cell_type": "code",
   "execution_count": null,
   "metadata": {
    "collapsed": true
   },
   "outputs": [],
   "source": []
  },
  {
   "cell_type": "code",
   "execution_count": null,
   "metadata": {
    "collapsed": true
   },
   "outputs": [],
   "source": []
  },
  {
   "cell_type": "code",
   "execution_count": null,
   "metadata": {
    "collapsed": true
   },
   "outputs": [],
   "source": []
  },
  {
   "cell_type": "code",
   "execution_count": null,
   "metadata": {},
   "outputs": [],
   "source": [
    "df_val.info()"
   ]
  },
  {
   "cell_type": "code",
   "execution_count": 7,
   "metadata": {
    "collapsed": true
   },
   "outputs": [],
   "source": [
    "#removing all the working data \n",
    "df_val = df_val.drop([\"addr_state\",\"last_credit_pull_d\",\"title\",\"il_util\", \"max_bal_bc\",\"total_bal_il\",\"collection_recovery_fee\", \"collections_12_mths_ex_med\", \"desc\", \"funded_amnt\", \"funded_amnt_inv\", \"earliest_cr_line\", \"id\", \"member_id\", \"grade\", \"pymnt_plan\", \"last_pymnt_d\", \"last_pymnt_amnt\", \"next_pymnt_d\", \"out_prncp\", \"out_prncp_inv\",\"emp_title\", \"zip_code\", \"recoveries\", \"total_pymnt\", \"total_pymnt_inv\", \"total_rec_prncp\", \"total_rec_int\", \"total_rec_late_fee\", \"mths_since_rcnt_il\", \"inq_last_6mths\",\"total_acc\",\"initial_list_status\"],axis=1)"
   ]
  },
  {
   "cell_type": "code",
   "execution_count": 8,
   "metadata": {},
   "outputs": [
    {
     "name": "stdout",
     "output_type": "stream",
     "text": [
      "<class 'pandas.core.frame.DataFrame'>\n",
      "Int64Index: 601048 entries, 4 to 855968\n",
      "Data columns (total 40 columns):\n",
      "loan_amnt                      601048 non-null float64\n",
      "term                           601048 non-null object\n",
      "int_rate                       601048 non-null float64\n",
      "installment                    601048 non-null float64\n",
      "sub_grade                      601048 non-null object\n",
      "emp_length                     601048 non-null object\n",
      "home_ownership                 601048 non-null object\n",
      "annual_inc                     601048 non-null float64\n",
      "verification_status            601048 non-null object\n",
      "issue_d                        601048 non-null object\n",
      "purpose                        601048 non-null object\n",
      "dti                            601048 non-null float64\n",
      "delinq_2yrs                    601048 non-null float64\n",
      "mths_since_last_delinq         303068 non-null float64\n",
      "mths_since_last_record         99466 non-null float64\n",
      "open_acc                       601048 non-null float64\n",
      "pub_rec                        601048 non-null float64\n",
      "revol_bal                      601048 non-null float64\n",
      "revol_util                     601048 non-null float64\n",
      "mths_since_last_major_derog    165113 non-null float64\n",
      "policy_code                    601048 non-null float64\n",
      "application_type               601048 non-null object\n",
      "annual_inc_joint               439 non-null float64\n",
      "dti_joint                      437 non-null float64\n",
      "verification_status_joint      439 non-null object\n",
      "acc_now_delinq                 601048 non-null float64\n",
      "tot_coll_amt                   597444 non-null float64\n",
      "tot_cur_bal                    597444 non-null float64\n",
      "open_acc_6m                    13094 non-null float64\n",
      "open_il_6m                     13094 non-null float64\n",
      "open_il_12m                    13094 non-null float64\n",
      "open_il_24m                    13094 non-null float64\n",
      "open_rv_12m                    13094 non-null float64\n",
      "open_rv_24m                    13094 non-null float64\n",
      "all_util                       13094 non-null float64\n",
      "total_rev_hi_lim               597444 non-null float64\n",
      "inq_fi                         13094 non-null float64\n",
      "total_cu_tl                    13094 non-null float64\n",
      "inq_last_12m                   13094 non-null float64\n",
      "default_ind                    601048 non-null int64\n",
      "dtypes: float64(30), int64(1), object(9)\n",
      "memory usage: 188.0+ MB\n"
     ]
    }
   ],
   "source": [
    "df_val.info()"
   ]
  },
  {
   "cell_type": "code",
   "execution_count": 9,
   "metadata": {
    "collapsed": true
   },
   "outputs": [],
   "source": [
    "#dropping any coulumns with more than 50% na values as the dataset is too big to go for 75% rate\n",
    "df_val = df_val.dropna(thresh=0.5*len(df_val),axis=1)"
   ]
  },
  {
   "cell_type": "code",
   "execution_count": 10,
   "metadata": {},
   "outputs": [
    {
     "name": "stdout",
     "output_type": "stream",
     "text": [
      "<class 'pandas.core.frame.DataFrame'>\n",
      "Int64Index: 601048 entries, 4 to 855968\n",
      "Data columns (total 25 columns):\n",
      "loan_amnt                 601048 non-null float64\n",
      "term                      601048 non-null object\n",
      "int_rate                  601048 non-null float64\n",
      "installment               601048 non-null float64\n",
      "sub_grade                 601048 non-null object\n",
      "emp_length                601048 non-null object\n",
      "home_ownership            601048 non-null object\n",
      "annual_inc                601048 non-null float64\n",
      "verification_status       601048 non-null object\n",
      "issue_d                   601048 non-null object\n",
      "purpose                   601048 non-null object\n",
      "dti                       601048 non-null float64\n",
      "delinq_2yrs               601048 non-null float64\n",
      "mths_since_last_delinq    303068 non-null float64\n",
      "open_acc                  601048 non-null float64\n",
      "pub_rec                   601048 non-null float64\n",
      "revol_bal                 601048 non-null float64\n",
      "revol_util                601048 non-null float64\n",
      "policy_code               601048 non-null float64\n",
      "application_type          601048 non-null object\n",
      "acc_now_delinq            601048 non-null float64\n",
      "tot_coll_amt              597444 non-null float64\n",
      "tot_cur_bal               597444 non-null float64\n",
      "total_rev_hi_lim          597444 non-null float64\n",
      "default_ind               601048 non-null int64\n",
      "dtypes: float64(16), int64(1), object(8)\n",
      "memory usage: 119.2+ MB\n"
     ]
    }
   ],
   "source": [
    "df_val.info()"
   ]
  },
  {
   "cell_type": "code",
   "execution_count": 11,
   "metadata": {},
   "outputs": [
    {
     "name": "stdout",
     "output_type": "stream",
     "text": [
      " 36 months    402315\n",
      " 60 months    198733\n",
      "Name: term, dtype: int64\n",
      "\n",
      "1.0    601048\n",
      "Name: policy_code, dtype: int64\n",
      "\n",
      "INDIVIDUAL    600609\n",
      "JOINT            439\n",
      "Name: application_type, dtype: int64\n",
      "\n",
      "0    599836\n",
      "1      1212\n",
      "Name: default_ind, dtype: int64\n",
      "\n"
     ]
    }
   ],
   "source": [
    "#checking categorical columns with less than 1 unique value \n",
    "for col in df_val.columns:\n",
    "    if (len(df_val[col].unique()) < 3):\n",
    "        print(df_val[col].value_counts())\n",
    "        print()"
   ]
  },
  {
   "cell_type": "code",
   "execution_count": 12,
   "metadata": {
    "collapsed": true
   },
   "outputs": [],
   "source": [
    "#removing policy code, for a single unique value\n",
    "#removing application_type, due to the distribution being to baised\n",
    "df_val = df_val.drop([\"policy_code\",\"application_type\"],axis=1)"
   ]
  },
  {
   "cell_type": "code",
   "execution_count": 13,
   "metadata": {
    "collapsed": true
   },
   "outputs": [],
   "source": [
    "###checking the null values"
   ]
  },
  {
   "cell_type": "code",
   "execution_count": 14,
   "metadata": {},
   "outputs": [
    {
     "data": {
      "text/plain": [
       "loan_amnt                      0\n",
       "term                           0\n",
       "int_rate                       0\n",
       "installment                    0\n",
       "sub_grade                      0\n",
       "emp_length                     0\n",
       "home_ownership                 0\n",
       "annual_inc                     0\n",
       "verification_status            0\n",
       "issue_d                        0\n",
       "purpose                        0\n",
       "dti                            0\n",
       "delinq_2yrs                    0\n",
       "mths_since_last_delinq    297980\n",
       "open_acc                       0\n",
       "pub_rec                        0\n",
       "revol_bal                      0\n",
       "revol_util                     0\n",
       "acc_now_delinq                 0\n",
       "tot_coll_amt                3604\n",
       "tot_cur_bal                 3604\n",
       "total_rev_hi_lim            3604\n",
       "default_ind                    0\n",
       "dtype: int64"
      ]
     },
     "execution_count": 14,
     "metadata": {},
     "output_type": "execute_result"
    }
   ],
   "source": [
    "#checking and imputing missing values\n",
    "df_val.isnull().sum()"
   ]
  },
  {
   "cell_type": "code",
   "execution_count": 15,
   "metadata": {
    "collapsed": true
   },
   "outputs": [],
   "source": [
    "df_val = df_val.drop([\"mths_since_last_delinq\"],axis=1)"
   ]
  },
  {
   "cell_type": "code",
   "execution_count": 16,
   "metadata": {
    "collapsed": true
   },
   "outputs": [],
   "source": [
    "#all the missing data columns are numerical\n",
    "#columns with missing data\n",
    "#total_rev_hi_lim,tot_cur_bal,tot_coll_amt,revol_util"
   ]
  },
  {
   "cell_type": "code",
   "execution_count": 17,
   "metadata": {
    "collapsed": true
   },
   "outputs": [],
   "source": [
    "df_val.revol_util.fillna(df_val.revol_util.mean(),inplace=True) "
   ]
  },
  {
   "cell_type": "code",
   "execution_count": 31,
   "metadata": {},
   "outputs": [
    {
     "data": {
      "image/png": "[encoded data removed]",
      "text/plain": [
       "<matplotlib.figure.Figure at 0x1e82c7ef4a8>"
      ]
     },
     "metadata": {},
     "output_type": "display_data"
    },
    {
     "data": {
      "image/png": "[encoded data removed]",
      "text/plain": [
       "<matplotlib.figure.Figure at 0x1e82c886dd8>"
      ]
     },
     "metadata": {},
     "output_type": "display_data"
    }
   ],
   "source": [
    "#loan_status and loan_amount\n",
    "plt.figure(figsize = (12,14))\n",
    "plt.subplot(313)\n",
    "g2 = sns.boxplot(\"revol_util\", data=df_val)\n",
    "g2.set_xticklabels(g2.get_xticklabels(),rotation=45)\n",
    "g2.set_xlabel(\"Duration Distribuition\", fontsize=15)\n",
    "g2.set_ylabel(\"Count\", fontsize=15)\n",
    "g2.set_title(\"Loan Amount\", fontsize=20)\n",
    "plt.show()"
   ]
  },
  {
   "cell_type": "code",
   "execution_count": 18,
   "metadata": {},
   "outputs": [],
   "source": [
    "import matplotlib.pyplot as plt\n",
    "\n",
    "from pylab import rcParams\n",
    "import seaborn as sb\n",
    "\n",
    "\n",
    "rcParams['figure.figsize']=5,4\n",
    "sb.set_style('whitegrid')"
   ]
  },
  {
   "cell_type": "code",
   "execution_count": 19,
   "metadata": {},
   "outputs": [
    {
     "ename": "NameError",
     "evalue": "name 'revol_util' is not defined",
     "output_type": "error",
     "traceback": [
      "\u001b[1;31m---------------------------------------------------------------------------\u001b[0m",
      "\u001b[1;31mNameError\u001b[0m                                 Traceback (most recent call last)",
      "\u001b[1;32m<ipython-input-19-cc59eb4b1329>\u001b[0m in \u001b[0;36m<module>\u001b[1;34m()\u001b[0m\n\u001b[1;32m----> 1\u001b[1;33m \u001b[0mdf_val\u001b[0m\u001b[1;33m[\u001b[0m\u001b[0mrevol_util\u001b[0m\u001b[1;33m]\u001b[0m\u001b[1;33m.\u001b[0m\u001b[0mboxplot\u001b[0m\u001b[1;33m(\u001b[0m\u001b[1;33m)\u001b[0m\u001b[1;33m\u001b[0m\u001b[0m\n\u001b[0m",
      "\u001b[1;31mNameError\u001b[0m: name 'revol_util' is not defined"
     ]
    }
   ],
   "source": [
    "plyt"
   ]
  },
  {
   "cell_type": "code",
   "execution_count": 20,
   "metadata": {
    "collapsed": true
   },
   "outputs": [],
   "source": [
    "df_val.total_rev_hi_lim.fillna(df_val.total_rev_hi_lim.mean(),inplace=True)"
   ]
  },
  {
   "cell_type": "code",
   "execution_count": 21,
   "metadata": {
    "collapsed": true
   },
   "outputs": [],
   "source": [
    "df_val.tot_coll_amt.fillna(df_val.tot_coll_amt.mean(),inplace=True) "
   ]
  },
  {
   "cell_type": "code",
   "execution_count": 22,
   "metadata": {
    "collapsed": true
   },
   "outputs": [],
   "source": [
    "df_val.tot_cur_bal.fillna(df_val.tot_cur_bal.mean(),inplace=True) "
   ]
  },
  {
   "cell_type": "code",
   "execution_count": 23,
   "metadata": {
    "collapsed": true
   },
   "outputs": [],
   "source": [
    "#treatment of categorical data"
   ]
  },
  {
   "cell_type": "code",
   "execution_count": 32,
   "metadata": {},
   "outputs": [
    {
     "data": {
      "text/plain": [
       "10+ years    204547\n",
       "2 years       52255\n",
       "3 years       46861\n",
       "< 1 year      46535\n",
       "1 year        37874\n",
       "5 years       35630\n",
       "4 years       34331\n",
       "n/a           33079\n",
       "8 years       30478\n",
       "7 years       29020\n",
       "6 years       26622\n",
       "9 years       23816\n",
       "Name: emp_length, dtype: int64"
      ]
     },
     "execution_count": 32,
     "metadata": {},
     "output_type": "execute_result"
    }
   ],
   "source": [
    "#ordinal columns \n",
    "df_val.emp_length.value_counts()"
   ]
  },
  {
   "cell_type": "code",
   "execution_count": 33,
   "metadata": {
    "collapsed": true
   },
   "outputs": [],
   "source": [
    "mapped = {\n",
    "    \"emp_length\":{\n",
    "        \"10+ years\": 10,\n",
    "        \"9 years\": 9,\n",
    "        \"8 years\": 8,\n",
    "        \"7 years\": 7,\n",
    "        \"6 years\": 6,\n",
    "        \"5 years\": 5,\n",
    "        \"4 years\": 4,\n",
    "        \"3 years\": 3,\n",
    "        \"2 years\": 2,\n",
    "        \"1 year\": 1,\n",
    "        \"< 1 year\": 0,\n",
    "        \"n/a\": 0\n",
    "\n",
    "    },\n",
    "    \n",
    "}"
   ]
  },
  {
   "cell_type": "code",
   "execution_count": 34,
   "metadata": {
    "collapsed": true
   },
   "outputs": [],
   "source": [
    "df_val = df_val.replace(mapped)"
   ]
  },
  {
   "cell_type": "code",
   "execution_count": 35,
   "metadata": {
    "collapsed": true
   },
   "outputs": [],
   "source": [
    "#ALL categorical columns\n",
    "obj_cols = [\"verification_status\",\"purpose\",\"term\",\"home_ownership\",\"sub_grade\"]"
   ]
  },
  {
   "cell_type": "code",
   "execution_count": 36,
   "metadata": {},
   "outputs": [
    {
     "data": {
      "text/html": [
       "<div>\n",
       "<style>\n",
       "    .dataframe thead tr:only-child th {\n",
       "        text-align: right;\n",
       "    }\n",
       "\n",
       "    .dataframe thead th {\n",
       "        text-align: left;\n",
       "    }\n",
       "\n",
       "    .dataframe tbody tr th {\n",
       "        vertical-align: top;\n",
       "    }\n",
       "</style>\n",
       "<table border=\"1\" class=\"dataframe\">\n",
       "  <thead>\n",
       "    <tr style=\"text-align: right;\">\n",
       "      <th></th>\n",
       "      <th>loan_amnt</th>\n",
       "      <th>term</th>\n",
       "      <th>int_rate</th>\n",
       "      <th>installment</th>\n",
       "      <th>sub_grade</th>\n",
       "      <th>emp_length</th>\n",
       "      <th>home_ownership</th>\n",
       "      <th>annual_inc</th>\n",
       "      <th>verification_status</th>\n",
       "      <th>issue_d</th>\n",
       "      <th>...</th>\n",
       "      <th>delinq_2yrs</th>\n",
       "      <th>open_acc</th>\n",
       "      <th>pub_rec</th>\n",
       "      <th>revol_bal</th>\n",
       "      <th>revol_util</th>\n",
       "      <th>acc_now_delinq</th>\n",
       "      <th>tot_coll_amt</th>\n",
       "      <th>tot_cur_bal</th>\n",
       "      <th>total_rev_hi_lim</th>\n",
       "      <th>default_ind</th>\n",
       "    </tr>\n",
       "  </thead>\n",
       "  <tbody>\n",
       "    <tr>\n",
       "      <th>4</th>\n",
       "      <td>3000.0</td>\n",
       "      <td>1</td>\n",
       "      <td>12.69</td>\n",
       "      <td>67.79</td>\n",
       "      <td>9</td>\n",
       "      <td>1</td>\n",
       "      <td>5</td>\n",
       "      <td>80000.0</td>\n",
       "      <td>1</td>\n",
       "      <td>Dec-2011</td>\n",
       "      <td>...</td>\n",
       "      <td>0.0</td>\n",
       "      <td>15.0</td>\n",
       "      <td>0.0</td>\n",
       "      <td>27783.0</td>\n",
       "      <td>53.9</td>\n",
       "      <td>0.0</td>\n",
       "      <td>232.815444</td>\n",
       "      <td>140170.271048</td>\n",
       "      <td>32982.191529</td>\n",
       "      <td>0</td>\n",
       "    </tr>\n",
       "    <tr>\n",
       "      <th>6</th>\n",
       "      <td>7000.0</td>\n",
       "      <td>1</td>\n",
       "      <td>15.96</td>\n",
       "      <td>170.08</td>\n",
       "      <td>14</td>\n",
       "      <td>8</td>\n",
       "      <td>5</td>\n",
       "      <td>47004.0</td>\n",
       "      <td>0</td>\n",
       "      <td>Dec-2011</td>\n",
       "      <td>...</td>\n",
       "      <td>0.0</td>\n",
       "      <td>7.0</td>\n",
       "      <td>0.0</td>\n",
       "      <td>17726.0</td>\n",
       "      <td>85.6</td>\n",
       "      <td>0.0</td>\n",
       "      <td>232.815444</td>\n",
       "      <td>140170.271048</td>\n",
       "      <td>32982.191529</td>\n",
       "      <td>0</td>\n",
       "    </tr>\n",
       "    <tr>\n",
       "      <th>32</th>\n",
       "      <td>10000.0</td>\n",
       "      <td>1</td>\n",
       "      <td>15.96</td>\n",
       "      <td>242.97</td>\n",
       "      <td>14</td>\n",
       "      <td>2</td>\n",
       "      <td>5</td>\n",
       "      <td>29120.0</td>\n",
       "      <td>2</td>\n",
       "      <td>Dec-2011</td>\n",
       "      <td>...</td>\n",
       "      <td>0.0</td>\n",
       "      <td>11.0</td>\n",
       "      <td>0.0</td>\n",
       "      <td>16158.0</td>\n",
       "      <td>63.6</td>\n",
       "      <td>0.0</td>\n",
       "      <td>232.815444</td>\n",
       "      <td>140170.271048</td>\n",
       "      <td>32982.191529</td>\n",
       "      <td>0</td>\n",
       "    </tr>\n",
       "    <tr>\n",
       "      <th>39</th>\n",
       "      <td>12500.0</td>\n",
       "      <td>1</td>\n",
       "      <td>12.69</td>\n",
       "      <td>282.44</td>\n",
       "      <td>9</td>\n",
       "      <td>1</td>\n",
       "      <td>5</td>\n",
       "      <td>27000.0</td>\n",
       "      <td>2</td>\n",
       "      <td>Dec-2011</td>\n",
       "      <td>...</td>\n",
       "      <td>0.0</td>\n",
       "      <td>6.0</td>\n",
       "      <td>0.0</td>\n",
       "      <td>10143.0</td>\n",
       "      <td>50.0</td>\n",
       "      <td>0.0</td>\n",
       "      <td>232.815444</td>\n",
       "      <td>140170.271048</td>\n",
       "      <td>32982.191529</td>\n",
       "      <td>0</td>\n",
       "    </tr>\n",
       "    <tr>\n",
       "      <th>61</th>\n",
       "      <td>17500.0</td>\n",
       "      <td>1</td>\n",
       "      <td>17.27</td>\n",
       "      <td>223.74</td>\n",
       "      <td>17</td>\n",
       "      <td>6</td>\n",
       "      <td>5</td>\n",
       "      <td>40000.0</td>\n",
       "      <td>2</td>\n",
       "      <td>Dec-2011</td>\n",
       "      <td>...</td>\n",
       "      <td>0.0</td>\n",
       "      <td>5.0</td>\n",
       "      <td>0.0</td>\n",
       "      <td>10724.0</td>\n",
       "      <td>58.9</td>\n",
       "      <td>0.0</td>\n",
       "      <td>232.815444</td>\n",
       "      <td>140170.271048</td>\n",
       "      <td>32982.191529</td>\n",
       "      <td>0</td>\n",
       "    </tr>\n",
       "  </tbody>\n",
       "</table>\n",
       "<p>5 rows × 22 columns</p>\n",
       "</div>"
      ],
      "text/plain": [
       "    loan_amnt  term  int_rate  installment  sub_grade  emp_length  \\\n",
       "4      3000.0     1     12.69        67.79          9           1   \n",
       "6      7000.0     1     15.96       170.08         14           8   \n",
       "32    10000.0     1     15.96       242.97         14           2   \n",
       "39    12500.0     1     12.69       282.44          9           1   \n",
       "61    17500.0     1     17.27       223.74         17           6   \n",
       "\n",
       "    home_ownership  annual_inc  verification_status   issue_d     ...       \\\n",
       "4                5     80000.0                    1  Dec-2011     ...        \n",
       "6                5     47004.0                    0  Dec-2011     ...        \n",
       "32               5     29120.0                    2  Dec-2011     ...        \n",
       "39               5     27000.0                    2  Dec-2011     ...        \n",
       "61               5     40000.0                    2  Dec-2011     ...        \n",
       "\n",
       "    delinq_2yrs  open_acc  pub_rec  revol_bal  revol_util  acc_now_delinq  \\\n",
       "4           0.0      15.0      0.0    27783.0        53.9             0.0   \n",
       "6           0.0       7.0      0.0    17726.0        85.6             0.0   \n",
       "32          0.0      11.0      0.0    16158.0        63.6             0.0   \n",
       "39          0.0       6.0      0.0    10143.0        50.0             0.0   \n",
       "61          0.0       5.0      0.0    10724.0        58.9             0.0   \n",
       "\n",
       "    tot_coll_amt    tot_cur_bal  total_rev_hi_lim  default_ind  \n",
       "4     232.815444  140170.271048      32982.191529            0  \n",
       "6     232.815444  140170.271048      32982.191529            0  \n",
       "32    232.815444  140170.271048      32982.191529            0  \n",
       "39    232.815444  140170.271048      32982.191529            0  \n",
       "61    232.815444  140170.271048      32982.191529            0  \n",
       "\n",
       "[5 rows x 22 columns]"
      ]
     },
     "execution_count": 36,
     "metadata": {},
     "output_type": "execute_result"
    }
   ],
   "source": [
    "# for preprocessing the data converting category to numerical\n",
    "from sklearn import preprocessing\n",
    "le={}\n",
    "\n",
    "for x in obj_cols:\n",
    "    le[x]=preprocessing.LabelEncoder()\n",
    "    \n",
    "for x in obj_cols:\n",
    "    df_val[x]=le[x].fit_transform(df_val.__getattr__(x))\n",
    "df_val.head()"
   ]
  },
  {
   "cell_type": "code",
   "execution_count": 37,
   "metadata": {
    "collapsed": true
   },
   "outputs": [],
   "source": [
    "df_val = df_val.drop([\"tot_coll_amt\",\"revol_bal\",\"acc_now_delinq\",\"installment\",\"issue_d\",\"int_rate\"],axis=1)\n"
   ]
  },
  {
   "cell_type": "code",
   "execution_count": 38,
   "metadata": {
    "collapsed": true
   },
   "outputs": [],
   "source": [
    "df_val.to_csv(\"df_val_clean.csv\",index=False)"
   ]
  },
  {
   "cell_type": "code",
   "execution_count": null,
   "metadata": {
    "collapsed": true
   },
   "outputs": [],
   "source": []
  }
 ],
 "metadata": {
  "kernelspec": {
   "display_name": "Python 3",
   "language": "python",
   "name": "python3"
  },
  "language_info": {
   "codemirror_mode": {
    "name": "ipython",
    "version": 3
   },
   "file_extension": ".py",
   "mimetype": "text/x-python",
   "name": "python",
   "nbconvert_exporter": "python",
   "pygments_lexer": "ipython3",
   "version": "3.6.2"
  }
 },
 "nbformat": 4,
 "nbformat_minor": 2
}
